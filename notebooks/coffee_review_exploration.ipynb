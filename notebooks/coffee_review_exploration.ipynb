{
 "cells": [
  {
   "cell_type": "code",
   "execution_count": 3,
   "metadata": {},
   "outputs": [
    {
     "data": {
      "text/html": [
       "<div><style>\n",
       ".dataframe > thead > tr,\n",
       ".dataframe > tbody > tr {\n",
       "  text-align: right;\n",
       "  white-space: pre-wrap;\n",
       "}\n",
       "</style>\n",
       "<small>shape: (5, 9)</small><table border=\"1\" class=\"dataframe\"><thead><tr><th>name</th><th>roaster</th><th>roast</th><th>loc_country</th><th>origin</th><th>100g_USD</th><th>rating</th><th>review_date</th><th>review</th></tr><tr><td>str</td><td>str</td><td>str</td><td>str</td><td>str</td><td>f64</td><td>i64</td><td>str</td><td>str</td></tr></thead><tbody><tr><td>&quot;Ethiopia Shaki…</td><td>&quot;Revel Coffee&quot;</td><td>&quot;Medium-Light&quot;</td><td>&quot;United States&quot;</td><td>&quot;Ethiopia&quot;</td><td>4.7</td><td>92</td><td>&quot;November 2017&quot;</td><td>&quot;Crisply sweet,…</td></tr><tr><td>&quot;Ethiopia Suke …</td><td>&quot;Roast House&quot;</td><td>&quot;Medium-Light&quot;</td><td>&quot;United States&quot;</td><td>&quot;Ethiopia&quot;</td><td>4.19</td><td>92</td><td>&quot;November 2017&quot;</td><td>&quot;Delicate, swee…</td></tr><tr><td>&quot;Ethiopia Gedeb…</td><td>&quot;Big Creek Coff…</td><td>&quot;Medium&quot;</td><td>&quot;United States&quot;</td><td>&quot;Ethiopia&quot;</td><td>4.85</td><td>94</td><td>&quot;November 2017&quot;</td><td>&quot;Deeply sweet, …</td></tr><tr><td>&quot;Ethiopia Kayon…</td><td>&quot;Red Rooster Co…</td><td>&quot;Light&quot;</td><td>&quot;United States&quot;</td><td>&quot;Ethiopia&quot;</td><td>5.14</td><td>93</td><td>&quot;November 2017&quot;</td><td>&quot;Delicate, rich…</td></tr><tr><td>&quot;Ethiopia Gelge…</td><td>&quot;Willoughby&#x27;s C…</td><td>&quot;Medium-Light&quot;</td><td>&quot;United States&quot;</td><td>&quot;Ethiopia&quot;</td><td>3.97</td><td>93</td><td>&quot;November 2017&quot;</td><td>&quot;High-toned, fl…</td></tr></tbody></table></div>"
      ],
      "text/plain": [
       "shape: (5, 9)\n",
       "┌────────────┬────────────┬────────────┬───────────┬───┬──────────┬────────┬───────────┬───────────┐\n",
       "│ name       ┆ roaster    ┆ roast      ┆ loc_count ┆ … ┆ 100g_USD ┆ rating ┆ review_da ┆ review    │\n",
       "│ ---        ┆ ---        ┆ ---        ┆ ry        ┆   ┆ ---      ┆ ---    ┆ te        ┆ ---       │\n",
       "│ str        ┆ str        ┆ str        ┆ ---       ┆   ┆ f64      ┆ i64    ┆ ---       ┆ str       │\n",
       "│            ┆            ┆            ┆ str       ┆   ┆          ┆        ┆ str       ┆           │\n",
       "╞════════════╪════════════╪════════════╪═══════════╪═══╪══════════╪════════╪═══════════╪═══════════╡\n",
       "│ Ethiopia   ┆ Revel      ┆ Medium-Lig ┆ United    ┆ … ┆ 4.7      ┆ 92     ┆ November  ┆ Crisply   │\n",
       "│ Shakiso    ┆ Coffee     ┆ ht         ┆ States    ┆   ┆          ┆        ┆ 2017      ┆ sweet,    │\n",
       "│ Mormora    ┆            ┆            ┆           ┆   ┆          ┆        ┆           ┆ cocoa-ton │\n",
       "│            ┆            ┆            ┆           ┆   ┆          ┆        ┆           ┆ ed. Lemo… │\n",
       "│ Ethiopia   ┆ Roast      ┆ Medium-Lig ┆ United    ┆ … ┆ 4.19     ┆ 92     ┆ November  ┆ Delicate, │\n",
       "│ Suke Quto  ┆ House      ┆ ht         ┆ States    ┆   ┆          ┆        ┆ 2017      ┆ sweetly   │\n",
       "│            ┆            ┆            ┆           ┆   ┆          ┆        ┆           ┆ spice-ton │\n",
       "│            ┆            ┆            ┆           ┆   ┆          ┆        ┆           ┆ ed. P…    │\n",
       "│ Ethiopia   ┆ Big Creek  ┆ Medium     ┆ United    ┆ … ┆ 4.85     ┆ 94     ┆ November  ┆ Deeply    │\n",
       "│ Gedeb Halo ┆ Coffee     ┆            ┆ States    ┆   ┆          ┆        ┆ 2017      ┆ sweet,    │\n",
       "│ Beriti     ┆ Roasters   ┆            ┆           ┆   ┆          ┆        ┆           ┆ subtly    │\n",
       "│            ┆            ┆            ┆           ┆   ┆          ┆        ┆           ┆ pungent.  │\n",
       "│            ┆            ┆            ┆           ┆   ┆          ┆        ┆           ┆ Ho…       │\n",
       "│ Ethiopia   ┆ Red        ┆ Light      ┆ United    ┆ … ┆ 5.14     ┆ 93     ┆ November  ┆ Delicate, │\n",
       "│ Kayon      ┆ Rooster    ┆            ┆ States    ┆   ┆          ┆        ┆ 2017      ┆ richly    │\n",
       "│ Mountain   ┆ Coffee     ┆            ┆           ┆   ┆          ┆        ┆           ┆ and       │\n",
       "│            ┆ Roaster    ┆            ┆           ┆   ┆          ┆        ┆           ┆ sweetly   │\n",
       "│            ┆            ┆            ┆           ┆   ┆          ┆        ┆           ┆ tar…      │\n",
       "│ Ethiopia   ┆ Willoughby ┆ Medium-Lig ┆ United    ┆ … ┆ 3.97     ┆ 93     ┆ November  ┆ High-tone │\n",
       "│ Gelgelu    ┆ 's Coffee  ┆ ht         ┆ States    ┆   ┆          ┆        ┆ 2017      ┆ d,        │\n",
       "│ Natural    ┆ & Tea      ┆            ┆           ┆   ┆          ┆        ┆           ┆ floral.   │\n",
       "│ Organic    ┆            ┆            ┆           ┆   ┆          ┆        ┆           ┆ Dried     │\n",
       "│            ┆            ┆            ┆           ┆   ┆          ┆        ┆           ┆ aprico…   │\n",
       "└────────────┴────────────┴────────────┴───────────┴───┴──────────┴────────┴───────────┴───────────┘"
      ]
     },
     "execution_count": 3,
     "metadata": {},
     "output_type": "execute_result"
    }
   ],
   "source": [
    "import polars\n",
    "\n",
    "data = polars.read_csv(\"../data/processed/simplified_coffee.csv\")\n",
    "\n",
    "data.head()"
   ]
  }
 ],
 "metadata": {
  "kernelspec": {
   "display_name": ".venv",
   "language": "python",
   "name": "python3"
  },
  "language_info": {
   "codemirror_mode": {
    "name": "ipython",
    "version": 3
   },
   "file_extension": ".py",
   "mimetype": "text/x-python",
   "name": "python",
   "nbconvert_exporter": "python",
   "pygments_lexer": "ipython3",
   "version": "3.12.1"
  }
 },
 "nbformat": 4,
 "nbformat_minor": 2
}
