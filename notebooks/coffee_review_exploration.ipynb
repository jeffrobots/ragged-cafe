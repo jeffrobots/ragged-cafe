{
 "cells": [
  {
   "cell_type": "code",
   "execution_count": null,
   "metadata": {},
   "outputs": [
    {
     "data": {
      "text/html": [
       "<div><style>\n",
       ".dataframe > thead > tr,\n",
       ".dataframe > tbody > tr {\n",
       "  text-align: right;\n",
       "  white-space: pre-wrap;\n",
       "}\n",
       "</style>\n",
       "<small>shape: (5, 9)</small><table border=\"1\" class=\"dataframe\"><thead><tr><th>name</th><th>roaster</th><th>roast</th><th>loc_country</th><th>origin</th><th>100g_USD</th><th>rating</th><th>review_date</th><th>review</th></tr><tr><td>str</td><td>str</td><td>str</td><td>str</td><td>str</td><td>f64</td><td>i64</td><td>str</td><td>str</td></tr></thead><tbody><tr><td>&quot;Ethiopia Shaki…</td><td>&quot;Revel Coffee&quot;</td><td>&quot;Medium-Light&quot;</td><td>&quot;United States&quot;</td><td>&quot;Ethiopia&quot;</td><td>4.7</td><td>92</td><td>&quot;November 2017&quot;</td><td>&quot;Crisply sweet,…</td></tr><tr><td>&quot;Ethiopia Suke …</td><td>&quot;Roast House&quot;</td><td>&quot;Medium-Light&quot;</td><td>&quot;United States&quot;</td><td>&quot;Ethiopia&quot;</td><td>4.19</td><td>92</td><td>&quot;November 2017&quot;</td><td>&quot;Delicate, swee…</td></tr><tr><td>&quot;Ethiopia Gedeb…</td><td>&quot;Big Creek Coff…</td><td>&quot;Medium&quot;</td><td>&quot;United States&quot;</td><td>&quot;Ethiopia&quot;</td><td>4.85</td><td>94</td><td>&quot;November 2017&quot;</td><td>&quot;Deeply sweet, …</td></tr><tr><td>&quot;Ethiopia Kayon…</td><td>&quot;Red Rooster Co…</td><td>&quot;Light&quot;</td><td>&quot;United States&quot;</td><td>&quot;Ethiopia&quot;</td><td>5.14</td><td>93</td><td>&quot;November 2017&quot;</td><td>&quot;Delicate, rich…</td></tr><tr><td>&quot;Ethiopia Gelge…</td><td>&quot;Willoughby&#x27;s C…</td><td>&quot;Medium-Light&quot;</td><td>&quot;United States&quot;</td><td>&quot;Ethiopia&quot;</td><td>3.97</td><td>93</td><td>&quot;November 2017&quot;</td><td>&quot;High-toned, fl…</td></tr></tbody></table></div>"
      ],
      "text/plain": [
       "shape: (5, 9)\n",
       "┌────────────┬────────────┬────────────┬───────────┬───┬──────────┬────────┬───────────┬───────────┐\n",
       "│ name       ┆ roaster    ┆ roast      ┆ loc_count ┆ … ┆ 100g_USD ┆ rating ┆ review_da ┆ review    │\n",
       "│ ---        ┆ ---        ┆ ---        ┆ ry        ┆   ┆ ---      ┆ ---    ┆ te        ┆ ---       │\n",
       "│ str        ┆ str        ┆ str        ┆ ---       ┆   ┆ f64      ┆ i64    ┆ ---       ┆ str       │\n",
       "│            ┆            ┆            ┆ str       ┆   ┆          ┆        ┆ str       ┆           │\n",
       "╞════════════╪════════════╪════════════╪═══════════╪═══╪══════════╪════════╪═══════════╪═══════════╡\n",
       "│ Ethiopia   ┆ Revel      ┆ Medium-Lig ┆ United    ┆ … ┆ 4.7      ┆ 92     ┆ November  ┆ Crisply   │\n",
       "│ Shakiso    ┆ Coffee     ┆ ht         ┆ States    ┆   ┆          ┆        ┆ 2017      ┆ sweet,    │\n",
       "│ Mormora    ┆            ┆            ┆           ┆   ┆          ┆        ┆           ┆ cocoa-ton │\n",
       "│            ┆            ┆            ┆           ┆   ┆          ┆        ┆           ┆ ed. Lemo… │\n",
       "│ Ethiopia   ┆ Roast      ┆ Medium-Lig ┆ United    ┆ … ┆ 4.19     ┆ 92     ┆ November  ┆ Delicate, │\n",
       "│ Suke Quto  ┆ House      ┆ ht         ┆ States    ┆   ┆          ┆        ┆ 2017      ┆ sweetly   │\n",
       "│            ┆            ┆            ┆           ┆   ┆          ┆        ┆           ┆ spice-ton │\n",
       "│            ┆            ┆            ┆           ┆   ┆          ┆        ┆           ┆ ed. P…    │\n",
       "│ Ethiopia   ┆ Big Creek  ┆ Medium     ┆ United    ┆ … ┆ 4.85     ┆ 94     ┆ November  ┆ Deeply    │\n",
       "│ Gedeb Halo ┆ Coffee     ┆            ┆ States    ┆   ┆          ┆        ┆ 2017      ┆ sweet,    │\n",
       "│ Beriti     ┆ Roasters   ┆            ┆           ┆   ┆          ┆        ┆           ┆ subtly    │\n",
       "│            ┆            ┆            ┆           ┆   ┆          ┆        ┆           ┆ pungent.  │\n",
       "│            ┆            ┆            ┆           ┆   ┆          ┆        ┆           ┆ Ho…       │\n",
       "│ Ethiopia   ┆ Red        ┆ Light      ┆ United    ┆ … ┆ 5.14     ┆ 93     ┆ November  ┆ Delicate, │\n",
       "│ Kayon      ┆ Rooster    ┆            ┆ States    ┆   ┆          ┆        ┆ 2017      ┆ richly    │\n",
       "│ Mountain   ┆ Coffee     ┆            ┆           ┆   ┆          ┆        ┆           ┆ and       │\n",
       "│            ┆ Roaster    ┆            ┆           ┆   ┆          ┆        ┆           ┆ sweetly   │\n",
       "│            ┆            ┆            ┆           ┆   ┆          ┆        ┆           ┆ tar…      │\n",
       "│ Ethiopia   ┆ Willoughby ┆ Medium-Lig ┆ United    ┆ … ┆ 3.97     ┆ 93     ┆ November  ┆ High-tone │\n",
       "│ Gelgelu    ┆ 's Coffee  ┆ ht         ┆ States    ┆   ┆          ┆        ┆ 2017      ┆ d,        │\n",
       "│ Natural    ┆ & Tea      ┆            ┆           ┆   ┆          ┆        ┆           ┆ floral.   │\n",
       "│ Organic    ┆            ┆            ┆           ┆   ┆          ┆        ┆           ┆ Dried     │\n",
       "│            ┆            ┆            ┆           ┆   ┆          ┆        ┆           ┆ aprico…   │\n",
       "└────────────┴────────────┴────────────┴───────────┴───┴──────────┴────────┴───────────┴───────────┘"
      ]
     },
     "execution_count": null,
     "metadata": {},
     "output_type": "execute_result"
    }
   ],
   "source": [
    "import polars\n",
    "\n",
    "data = polars.read_csv(\"../data/processed/simplified_coffee.csv\")\n",
    "\n",
    "data.head()"
   ]
  },
  {
   "cell_type": "code",
   "execution_count": 36,
   "metadata": {},
   "outputs": [
    {
     "name": "stdout",
     "output_type": "stream",
     "text": [
      "Made 1246 documents\n"
     ]
    }
   ],
   "source": [
    "from pathlib import Path\n",
    "from llama_index import Document\n",
    "documents = []\n",
    "for coffee_review in data.rows(named=True):\n",
    "    meta = {\"Name\": coffee_review[\"name\"], \"roaster\": coffee_review[\"roaster\"]}\n",
    "    doc = Document(text=coffee_review[\"review\"], metadata=meta)\n",
    "    documents.append(doc)\n",
    "\n",
    "print(f\"Made {len(documents)} documents\")\n"
   ]
  },
  {
   "cell_type": "code",
   "execution_count": 37,
   "metadata": {},
   "outputs": [],
   "source": [
    "from llama_index import VectorStoreIndex\n",
    "from llama_index import VectorStoreIndex, SimpleDirectoryReader, ServiceContext\n",
    "from llama_index.llms import Ollama as OllamaLLM\n",
    "from llama_index.embeddings import OllamaEmbedding\n",
    "\n",
    "llm = OllamaLLM(model=\"mistral\", request_timeout=30.0)\n",
    "embed = OllamaEmbedding(\"phi\")\n",
    "context = ServiceContext.from_defaults(llm=llm, embed_model=embed)\n"
   ]
  },
  {
   "cell_type": "code",
   "execution_count": 38,
   "metadata": {},
   "outputs": [
    {
     "data": {
      "application/vnd.jupyter.widget-view+json": {
       "model_id": "5cf3490e17e8498180f28cfa5d69a701",
       "version_major": 2,
       "version_minor": 0
      },
      "text/plain": [
       "Parsing nodes:   0%|          | 0/1246 [00:00<?, ?it/s]"
      ]
     },
     "metadata": {},
     "output_type": "display_data"
    },
    {
     "data": {
      "application/vnd.jupyter.widget-view+json": {
       "model_id": "5b3dfe458b714bbd80be9e0f7b0addfd",
       "version_major": 2,
       "version_minor": 0
      },
      "text/plain": [
       "Generating embeddings:   0%|          | 0/1246 [00:00<?, ?it/s]"
      ]
     },
     "metadata": {},
     "output_type": "display_data"
    }
   ],
   "source": [
    "index = VectorStoreIndex.from_documents(documents, service_context=context, show_progress=True)"
   ]
  },
  {
   "cell_type": "code",
   "execution_count": 41,
   "metadata": {},
   "outputs": [
    {
     "name": "stdout",
     "output_type": "stream",
     "text": [
      " Based on the descriptions provided, the Ethiopia Yirgacheffe G1 from VERYTIME could be a good option to consider if you're open to trying coffees with a natural processing method. This coffee is described as having a crisp sweetness and deep chocolaty flavors with hints of spicy florals, which might appeal to those who enjoy sweeter or chocolatey flavors. If you prefer a more acidic or fruit-forward profile, the Cate Natural G5 from Small Eyes Cafe could also be worth trying due to its bright and tart characteristics with notes of raspberry, chocolate fudge, sandalwood, narcissus, and almond butter. Ultimately, everyone's taste preferences are unique, so it may take some experimentation to find a coffee that resonates with you.\n"
     ]
    }
   ],
   "source": [
    "query = index.as_query_engine()\n",
    "resp = query.query(\"I hate coffee. Which coffee would change my mind?\")\n",
    "print(resp)"
   ]
  }
 ],
 "metadata": {
  "kernelspec": {
   "display_name": ".venv",
   "language": "python",
   "name": "python3"
  },
  "language_info": {
   "codemirror_mode": {
    "name": "ipython",
    "version": 3
   },
   "file_extension": ".py",
   "mimetype": "text/x-python",
   "name": "python",
   "nbconvert_exporter": "python",
   "pygments_lexer": "ipython3",
   "version": "3.12.1"
  }
 },
 "nbformat": 4,
 "nbformat_minor": 2
}
